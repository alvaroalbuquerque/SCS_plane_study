{
 "cells": [
  {
   "cell_type": "code",
   "execution_count": 4,
   "id": "c5f024fa",
   "metadata": {},
   "outputs": [],
   "source": [
    "import numpy as np\n",
    "import pandas as pd\n",
    "import matplotlib.pyplot as plt\n",
    "from PIL import Image\n",
    "import data.Synthetic.images as synthetic_images"
   ]
  },
  {
   "cell_type": "code",
   "execution_count": 9,
   "id": "9aa668a4",
   "metadata": {},
   "outputs": [],
   "source": [
    "\n",
    "for i, item in enumerate(synthetic_images.images):\n",
    "    im = Image.fromarray(synthetic_images.images[item])\n",
    "    \n",
    "    # Convert floating point image to uint8 (0-255 range)\n",
    "    if im.mode == 'F':\n",
    "        # Normalize and convert to 8-bit\n",
    "        im_array = np.array(im)\n",
    "        im_normalized = (im_array*255).astype(np.uint8)\n",
    "        im = Image.fromarray(im_normalized, mode='L')  # 'L' is 8-bit grayscale\n",
    "    \n",
    "    im.save(f\"data/Synthetic/images/{item}.png\")\n"
   ]
  },
  {
   "cell_type": "code",
   "execution_count": null,
   "id": "d67820ab",
   "metadata": {},
   "outputs": [],
   "source": []
  }
 ],
 "metadata": {
  "kernelspec": {
   "display_name": "hc_plane",
   "language": "python",
   "name": "python3"
  },
  "language_info": {
   "codemirror_mode": {
    "name": "ipython",
    "version": 3
   },
   "file_extension": ".py",
   "mimetype": "text/x-python",
   "name": "python",
   "nbconvert_exporter": "python",
   "pygments_lexer": "ipython3",
   "version": "3.12.2"
  }
 },
 "nbformat": 4,
 "nbformat_minor": 5
}
